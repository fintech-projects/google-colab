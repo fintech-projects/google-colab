{
  "nbformat": 4,
  "nbformat_minor": 0,
  "metadata": {
    "colab": {
      "name": "Copy of Copy of test.ipynb",
      "provenance": [],
      "collapsed_sections": [],
      "authorship_tag": "ABX9TyO1k6iPpD8IUkdkY9j6EbCt",
      "include_colab_link": true
    },
    "kernelspec": {
      "name": "python3",
      "display_name": "Python 3"
    },
    "language_info": {
      "name": "python"
    }
  },
  "cells": [
    {
      "cell_type": "markdown",
      "metadata": {
        "id": "view-in-github",
        "colab_type": "text"
      },
      "source": [
        "<a href=\"https://colab.research.google.com/github/fintech-projects/google-colab/blob/main/test-from-google-colab-to-git-hub.ipynb\" target=\"_parent\"><img src=\"https://colab.research.google.com/assets/colab-badge.svg\" alt=\"Open In Colab\"/></a>"
      ]
    },
    {
      "cell_type": "code",
      "metadata": {
        "colab": {
          "base_uri": "https://localhost:8080/"
        },
        "id": "212DSyxLZjHR",
        "outputId": "c7943ff7-8d98-4a15-965d-ea433b8343f0"
      },
      "source": [
        "# confirm mtcnn was installed correctly\n",
        "#!pip install mtcnn\n",
        "#import mtcnn\n",
        " #print version\n",
        "#print(mtcnn.__version__)\n",
        "from google.colab import drive\n",
        "drive.mount('/content/FinTechProject-MachineLearning')"
      ],
      "execution_count": null,
      "outputs": [
        {
          "output_type": "stream",
          "text": [
            "Mounted at /content/FinTechProject-MachineLearning\n"
          ],
          "name": "stdout"
        }
      ]
    },
    {
      "cell_type": "markdown",
      "metadata": {
        "id": "nJlaoA5u3eXq"
      },
      "source": [
        "FinTech Project"
      ]
    },
    {
      "cell_type": "code",
      "metadata": {
        "id": "jQIULkGLanto"
      },
      "source": [
        "#!pip install auto_face_recognition"
      ],
      "execution_count": null,
      "outputs": []
    },
    {
      "cell_type": "code",
      "metadata": {
        "id": "evDXUDOEZk76",
        "colab": {
          "base_uri": "https://localhost:8080/"
        },
        "outputId": "9528eee9-acb0-4c3d-ac14-005ec826dbae"
      },
      "source": [
        "\n",
        "print (\"Project FinTech\")"
      ],
      "execution_count": null,
      "outputs": [
        {
          "output_type": "stream",
          "text": [
            "Project FinTech\n"
          ],
          "name": "stdout"
        }
      ]
    },
    {
      "cell_type": "code",
      "metadata": {
        "id": "ZB4gKvbEZ-NU"
      },
      "source": [
        ""
      ],
      "execution_count": null,
      "outputs": []
    }
  ]
}